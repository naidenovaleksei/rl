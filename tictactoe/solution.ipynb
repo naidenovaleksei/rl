{
 "cells": [
  {
   "cell_type": "code",
   "execution_count": 1,
   "metadata": {
    "id": "3f7VqBDUw8LY"
   },
   "outputs": [],
   "source": [
    "import matplotlib as mpl\n",
    "import matplotlib.pyplot as plt\n",
    "\n",
    "import numpy as np\n",
    "import gym\n",
    "import torch\n",
    "\n",
    "from matplotlib import rc\n",
    "rc('font',**{'family':'sans-serif'})\n",
    "rc('figure', **{'dpi': 300})"
   ]
  },
  {
   "cell_type": "code",
   "execution_count": 2,
   "metadata": {
    "id": "UWPw9ulow8Le"
   },
   "outputs": [],
   "source": [
    "from tictactoe import TicTacToe\n",
    "from plot import plot_test_game, plot_reward\n",
    "from game import get_hashes_map, check_strategy\n",
    "from strategy import GreedyStrategy, RandomStrategy, LazyGreedyStrategy, DQNStrategy, MCTSStrategy\n",
    "from qlearning import q_learning\n",
    "from wrapper import DQNWrapper\n",
    "from dqn import DenseNetwork, DQN\n",
    "from mcts import MCTree, train_mcts"
   ]
  },
  {
   "cell_type": "markdown",
   "metadata": {
    "id": "S7tmSNn1w8Lf"
   },
   "source": [
    "# 1 этап. Q-обучение и 3х3"
   ]
  },
  {
   "cell_type": "markdown",
   "metadata": {
    "id": "7DKJ-kibw8Lf"
   },
   "source": [
    "## Доска 3х3"
   ]
  },
  {
   "cell_type": "markdown",
   "metadata": {
    "id": "28wkauxAw8Lf"
   },
   "source": [
    "*Скажи мне, кто твой учитель, и я скажу тебе...*"
   ]
  },
  {
   "cell_type": "markdown",
   "metadata": {
    "id": "7Kcpgtjsw8Lg"
   },
   "source": [
    "- Играем в крестики-нолики на доске 3х3\n",
    "- Обучаем каждую стратегию отдельно\n",
    "- Сравниваем стратегии попарно и отдельно"
   ]
  },
  {
   "cell_type": "code",
   "execution_count": 3,
   "metadata": {
    "id": "5-dvHRO9w8Lg"
   },
   "outputs": [],
   "source": [
    "N_ITER = 100000"
   ]
  },
  {
   "cell_type": "code",
   "execution_count": 4,
   "metadata": {
    "colab": {
     "base_uri": "https://localhost:8080/"
    },
    "id": "cscpOrH5w8Lg",
    "outputId": "56db79c9-6c20-4bc1-9811-d9945eb594ce"
   },
   "outputs": [
    {
     "name": "stdout",
     "output_type": "stream",
     "text": [
      "Число состояний для х и о соответсственно: (3139, 2781)\n"
     ]
    }
   ],
   "source": [
    "env = TicTacToe(n_rows=3, n_cols=3, n_win=3)\n",
    "n = env.n_rows * env.n_cols\n",
    "hashes_map_x, hashes_map_o = get_hashes_map(env.n_rows, env.n_cols)\n",
    "print(f\"Число состояний для х и о соответсственно: {len(hashes_map_x), len(hashes_map_o)}\")"
   ]
  },
  {
   "cell_type": "markdown",
   "metadata": {
    "id": "rnnTPNvfw8Lh"
   },
   "source": [
    "**крестики обучаются против случайной стратегии**"
   ]
  },
  {
   "cell_type": "code",
   "execution_count": 5,
   "metadata": {
    "colab": {
     "base_uri": "https://localhost:8080/",
     "height": 298
    },
    "id": "H6pl0Qwqw8Lh",
    "outputId": "27d61247-73e3-4989-ae42-d1903bc8ba00"
   },
   "outputs": [
    {
     "name": "stderr",
     "output_type": "stream",
     "text": [
      "100%|██████████| 100000/100000 [01:12<00:00, 1386.73it/s]\n"
     ]
    },
    {
     "data": {
      "image/png": "[encoded data removed]",
      "text/plain": [
       "<Figure size 432x288 with 1 Axes>"
      ]
     },
     "metadata": {
      "needs_background": "light",
      "tags": []
     },
     "output_type": "display_data"
    }
   ],
   "source": [
    "pi_x = GreedyStrategy(hashes_map_x)\n",
    "avg_reward_x = q_learning(env, pi_x, play_as_crosses=True, eps=0.1, alpha=0.8, gamma=0.99, num_experiments=N_ITER)\n",
    "plot_reward(avg_reward_x, title=\"Выигрыш крестиков на обучении\")"
   ]
  },
  {
   "cell_type": "markdown",
   "metadata": {
    "id": "qSEyhyE9w8Li"
   },
   "source": [
    "**нолики обучаются против случайной стратегии**"
   ]
  },
  {
   "cell_type": "code",
   "execution_count": 6,
   "metadata": {
    "colab": {
     "base_uri": "https://localhost:8080/",
     "height": 298
    },
    "id": "LekwE3Yfw8Li",
    "outputId": "5f369981-e0d6-4b24-8890-00fd209582f6"
   },
   "outputs": [
    {
     "name": "stderr",
     "output_type": "stream",
     "text": [
      "100%|██████████| 100000/100000 [01:11<00:00, 1398.32it/s]\n"
     ]
    },
    {
     "data": {
      "image/png": "[encoded data removed]",
      "text/plain": [
       "<Figure size 432x288 with 1 Axes>"
      ]
     },
     "metadata": {
      "needs_background": "light",
      "tags": []
     },
     "output_type": "display_data"
    }
   ],
   "source": [
    "pi_o = GreedyStrategy(hashes_map_o)\n",
    "avg_reward_o = q_learning(env, pi_o, play_as_crosses=False, eps=0.1, alpha=0.8, gamma=0.99, num_experiments=N_ITER)\n",
    "plot_reward(avg_reward_o, title=\"Выигрыш ноликов на обучении\")"
   ]
  },
  {
   "cell_type": "markdown",
   "metadata": {
    "id": "NfH71EKzw8Li"
   },
   "source": [
    "*Игра обученных стратегий*"
   ]
  },
  {
   "cell_type": "code",
   "execution_count": 7,
   "metadata": {
    "colab": {
     "base_uri": "https://localhost:8080/"
    },
    "id": "XBQPI7nTw8Li",
    "outputId": "f1575955-c321-4dbd-a91b-061f71b5790e"
   },
   "outputs": [
    {
     "name": "stdout",
     "output_type": "stream",
     "text": [
      "Доля выигрышей крестиков: 1.000\n",
      "Доля выигрышей ноликов: 0.000\n"
     ]
    }
   ],
   "source": [
    "_ = check_strategy(env, pi_x, pi_o, random_crosses=False, random_naughts=False, num_experiments=1000)"
   ]
  },
  {
   "cell_type": "markdown",
   "metadata": {
    "id": "RsmF0CWdw8Lj"
   },
   "source": [
    "А что если учить играть против хороших стратегий, а не случайных?"
   ]
  },
  {
   "cell_type": "markdown",
   "metadata": {
    "id": "1Fwf6_8Iw8Lj"
   },
   "source": [
    "**нолики обучаются против обученной стратегии**"
   ]
  },
  {
   "cell_type": "code",
   "execution_count": 8,
   "metadata": {
    "colab": {
     "base_uri": "https://localhost:8080/",
     "height": 298
    },
    "id": "poEtkSxMw8Lj",
    "outputId": "671d7bd1-3a66-4794-ff5f-5f3cc4a58c23"
   },
   "outputs": [
    {
     "name": "stderr",
     "output_type": "stream",
     "text": [
      "100%|██████████| 100000/100000 [01:11<00:00, 1398.61it/s]\n"
     ]
    },
    {
     "data": {
      "image/png": "[encoded data removed]",
      "text/plain": [
       "<Figure size 432x288 with 1 Axes>"
      ]
     },
     "metadata": {
      "needs_background": "light",
      "tags": []
     },
     "output_type": "display_data"
    }
   ],
   "source": [
    "pi_o = GreedyStrategy(hashes_map_o)\n",
    "avg_reward_o2 = q_learning(env, pi_o, play_as_crosses=False, opponent=pi_x, eps=0.1, alpha=0.8, gamma=0.99, num_experiments=N_ITER)\n",
    "plot_reward(avg_reward_o2, title=\"Выигрыш ноликов на обучении\")"
   ]
  },
  {
   "cell_type": "code",
   "execution_count": 9,
   "metadata": {
    "colab": {
     "base_uri": "https://localhost:8080/"
    },
    "id": "LIv4k7AJw8Lj",
    "outputId": "ba727828-3436-420d-ce48-3731a2778879"
   },
   "outputs": [
    {
     "name": "stdout",
     "output_type": "stream",
     "text": [
      "Доля выигрышей крестиков: 0.459\n",
      "Доля выигрышей ноликов: 0.324\n"
     ]
    }
   ],
   "source": [
    "_ = check_strategy(env, None, pi_o, random_crosses=True, random_naughts=False, num_experiments=1000)"
   ]
  },
  {
   "cell_type": "code",
   "execution_count": 10,
   "metadata": {
    "colab": {
     "base_uri": "https://localhost:8080/"
    },
    "id": "YF5LyYW6w8Lj",
    "outputId": "a53fdd79-e6fa-4774-f5a3-9d81c5115e9b"
   },
   "outputs": [
    {
     "name": "stdout",
     "output_type": "stream",
     "text": [
      "Доля выигрышей крестиков: 0.000\n",
      "Доля выигрышей ноликов: 1.000\n"
     ]
    }
   ],
   "source": [
    "_ = check_strategy(env, pi_x, pi_o, random_crosses=False, random_naughts=False, num_experiments=1000)"
   ]
  },
  {
   "cell_type": "markdown",
   "metadata": {
    "id": "mFwZw0Wvw8Lk"
   },
   "source": [
    "*Обученная стратегия ноликов лучше по всем фронтам (и со случайным, и с обученным оппонентом)*"
   ]
  },
  {
   "cell_type": "markdown",
   "metadata": {
    "id": "693I7fhGw8Lk"
   },
   "source": [
    "do we need to go deeper?"
   ]
  },
  {
   "cell_type": "markdown",
   "metadata": {
    "id": "LGerzN-5w8Lk"
   },
   "source": [
    "**крестики обучаются против обученной стратегии**"
   ]
  },
  {
   "cell_type": "code",
   "execution_count": 11,
   "metadata": {
    "colab": {
     "base_uri": "https://localhost:8080/",
     "height": 298
    },
    "id": "D0_h4OI3w8Lk",
    "outputId": "1693c0f2-6295-466f-ad93-bf3ee8845538"
   },
   "outputs": [
    {
     "name": "stderr",
     "output_type": "stream",
     "text": [
      "100%|██████████| 100000/100000 [00:57<00:00, 1746.72it/s]\n"
     ]
    },
    {
     "data": {
      "image/png": "[encoded data removed]",
      "text/plain": [
       "<Figure size 432x288 with 1 Axes>"
      ]
     },
     "metadata": {
      "needs_background": "light",
      "tags": []
     },
     "output_type": "display_data"
    }
   ],
   "source": [
    "pi_x2 = GreedyStrategy(hashes_map_x)\n",
    "avg_reward_x = q_learning(env, pi_x2, play_as_crosses=True, opponent=pi_o, eps=0.1, alpha=0.8, gamma=0.99, num_experiments=N_ITER)\n",
    "plot_reward(avg_reward_x, title=\"Выигрыш крестиков на обучении\")"
   ]
  },
  {
   "cell_type": "code",
   "execution_count": 12,
   "metadata": {
    "colab": {
     "base_uri": "https://localhost:8080/"
    },
    "id": "L83uLISTw8Lk",
    "outputId": "7a50e8e4-d9f8-47db-cc29-a76d392afec1"
   },
   "outputs": [
    {
     "name": "stdout",
     "output_type": "stream",
     "text": [
      "Доля выигрышей крестиков: 0.000\n",
      "Доля выигрышей ноликов: 1.000\n"
     ]
    }
   ],
   "source": [
    "_ = check_strategy(env, pi_x, pi_o, random_crosses=False, random_naughts=False, num_experiments=1000)"
   ]
  },
  {
   "cell_type": "markdown",
   "metadata": {
    "id": "UKQ2q6Qdw8Ll"
   },
   "source": [
    "*Очевидно, что*\n",
    "- *стратегия крестиков, научившаяся играть против*\n",
    "- *стратегии ноликов, научившейся играть против*\n",
    "- *стратегии крестиков, научившейся играть против*\n",
    "- *случайной стратегии... в общем случае, хороша*"
   ]
  },
  {
   "cell_type": "markdown",
   "metadata": {
    "id": "ew8yn_V1w8Ll"
   },
   "source": [
    "# 2 этап. DQN, MCST и все все все"
   ]
  },
  {
   "cell_type": "markdown",
   "metadata": {
    "id": "eDpQbg10w8Ll"
   },
   "source": [
    "## 2.1 Доска 5х5 и Q-learning\n",
    "\n",
    "А что если взять крестики нолики 5х5?\n",
    "\n",
    "**Здесь идем на хитрость:**\n",
    "\n",
    "*не создаем пространство всех возможных состояний, а добавляем их в таблицу Q при встрече. В редковстречающихся состояних просто играем случайно. Это экономит время и память и не ухудшает качество*"
   ]
  },
  {
   "cell_type": "code",
   "execution_count": 13,
   "metadata": {
    "id": "azAHZgr_w8Ll"
   },
   "outputs": [],
   "source": [
    "N_ITER = 10000\n",
    "# N_ITER = 100000"
   ]
  },
  {
   "cell_type": "code",
   "execution_count": 3,
   "metadata": {
    "id": "nKZeS-ICw8Ll"
   },
   "outputs": [],
   "source": [
    "env = TicTacToe(n_rows=5, n_cols=5, n_win=5)"
   ]
  },
  {
   "cell_type": "markdown",
   "metadata": {
    "id": "hVcIQ_-Iw8Ll"
   },
   "source": [
    "**крестики обучаются против случайной стратегии**"
   ]
  },
  {
   "cell_type": "code",
   "execution_count": 15,
   "metadata": {
    "colab": {
     "base_uri": "https://localhost:8080/",
     "height": 298
    },
    "id": "ctTJWqM4w8Ll",
    "outputId": "2ef11d16-fd8d-4a94-b3e7-9d8102e4e4c4"
   },
   "outputs": [
    {
     "name": "stderr",
     "output_type": "stream",
     "text": [
      "100%|██████████| 10000/10000 [00:34<00:00, 293.59it/s]\n"
     ]
    },
    {
     "data": {
      "image/png": "[encoded data removed]",
      "text/plain": [
       "<Figure size 432x288 with 1 Axes>"
      ]
     },
     "metadata": {
      "needs_background": "light",
      "tags": []
     },
     "output_type": "display_data"
    }
   ],
   "source": [
    "pi_x = LazyGreedyStrategy(env.n_cols)\n",
    "avg_reward_x = q_learning(env, pi_x, play_as_crosses=True, eps=0.1, alpha=0.8, gamma=0.99, num_experiments=N_ITER)\n",
    "plot_reward(avg_reward_x, title=\"Выигрыш крестиков на обучении\")"
   ]
  },
  {
   "cell_type": "markdown",
   "metadata": {
    "id": "NpNGrnndw8Lm"
   },
   "source": [
    "**нолики обучаются против случайной стратегии**"
   ]
  },
  {
   "cell_type": "code",
   "execution_count": 16,
   "metadata": {
    "colab": {
     "base_uri": "https://localhost:8080/",
     "height": 298
    },
    "id": "9z-xiFvSw8Lm",
    "outputId": "ad99fb52-4558-4260-e72b-e7c2d6f99b8b"
   },
   "outputs": [
    {
     "name": "stderr",
     "output_type": "stream",
     "text": [
      "100%|██████████| 10000/10000 [00:32<00:00, 305.71it/s]\n"
     ]
    },
    {
     "data": {
      "image/png": "[encoded data removed]",
      "text/plain": [
       "<Figure size 432x288 with 1 Axes>"
      ]
     },
     "metadata": {
      "needs_background": "light",
      "tags": []
     },
     "output_type": "display_data"
    }
   ],
   "source": [
    "pi_o = LazyGreedyStrategy(env.n_cols)\n",
    "avg_reward_o = q_learning(env, pi_o, play_as_crosses=False, eps=0.1, alpha=0.8, gamma=0.99, num_experiments=N_ITER)\n",
    "plot_reward(avg_reward_o, title=\"Выигрыш ноликов на обучении\")"
   ]
  },
  {
   "cell_type": "markdown",
   "metadata": {
    "id": "XYwLGwGsw8Lm"
   },
   "source": [
    "К сожалению, на 5х5 Q-learning против случайных стратегий не обучается совершенно. \n",
    "\n",
    "Другое дело более продвинутые DQN, MCST - их и будем сравнивать в самом конце"
   ]
  },
  {
   "cell_type": "markdown",
   "metadata": {
    "id": "j30P-bKvw8Lm"
   },
   "source": [
    "## 2.2 Нейросети"
   ]
  },
  {
   "cell_type": "markdown",
   "metadata": {
    "id": "5Nzdmhb9zcgU"
   },
   "source": [
    "Теперь возьмем Dueling DQN. \n",
    "\n",
    "Как ни странно но DQN с 2 полносвязными слоями и совсем без сверточных слоев хорошо себя показывает на средних размеров досках. Будем использовать имеено такую архитектуру (для скорости обучения)"
   ]
  },
  {
   "cell_type": "markdown",
   "metadata": {
    "id": "iPy1myHNw8Ln"
   },
   "source": [
    "### Dueling QDN"
   ]
  },
  {
   "cell_type": "code",
   "execution_count": 4,
   "metadata": {
    "id": "CJoOcr9kw8Ln"
   },
   "outputs": [],
   "source": [
    "N_ITER = 10000\n",
    "# N_ITER = 100000"
   ]
  },
  {
   "cell_type": "code",
   "execution_count": 5,
   "metadata": {
    "id": "mUf6GI3Nw8Ln"
   },
   "outputs": [],
   "source": [
    "# device = torch.device(\"cpu\")\n",
    "device = torch.device(\"cuda\")"
   ]
  },
  {
   "cell_type": "markdown",
   "metadata": {
    "id": "oIJdpSHKw8Ln"
   },
   "source": [
    "**крестики обучаются против случайной стратегии**"
   ]
  },
  {
   "cell_type": "code",
   "execution_count": 6,
   "metadata": {
    "colab": {
     "base_uri": "https://localhost:8080/",
     "height": 298
    },
    "id": "cQnKzW-Aw8Ln",
    "outputId": "bcc0f00f-c252-4146-fb1f-185c7465af73"
   },
   "outputs": [
    {
     "name": "stderr",
     "output_type": "stream",
     "text": [
      "100%|██████████| 10000/10000 [04:29<00:00, 37.14it/s]\n"
     ]
    },
    {
     "data": {
      "image/png": "[encoded data removed]",
      "text/plain": [
       "<Figure size 432x288 with 1 Axes>"
      ]
     },
     "metadata": {
      "needs_background": "light",
      "tags": []
     },
     "output_type": "display_data"
    }
   ],
   "source": [
    "wrapper = DQNWrapper(env, play_as_crosses=True, opponent=RandomStrategy())\n",
    "dqn = DQN(wrapper, gamma=0.8, eps_decay=10000, model_kind=\"dueling_dense\", device=device)\n",
    "avg_reward_x = dqn.fit(num_experiments=N_ITER)\n",
    "plot_reward(avg_reward_x, title=\"Выигрыш крестиков на обучении\")"
   ]
  },
  {
   "cell_type": "code",
   "execution_count": 7,
   "metadata": {
    "colab": {
     "base_uri": "https://localhost:8080/"
    },
    "id": "8oBCphp9w8Ln",
    "outputId": "6352cd14-44f6-437a-d9e3-8d01f17dec69"
   },
   "outputs": [
    {
     "name": "stdout",
     "output_type": "stream",
     "text": [
      "Доля выигрышей крестиков: 0.925\n",
      "Доля выигрышей ноликов: 0.015\n"
     ]
    }
   ],
   "source": [
    "pi_x1 = DQNStrategy(dqn, env.n_cols)\n",
    "_ = check_strategy(env, pi_x1, None, random_crosses=False, random_naughts=True, num_experiments=N_ITER)"
   ]
  },
  {
   "cell_type": "markdown",
   "metadata": {
    "id": "br6sF0x3w8Ln"
   },
   "source": [
    "**нолики обучаются против случайной стратегии**"
   ]
  },
  {
   "cell_type": "code",
   "execution_count": 8,
   "metadata": {
    "colab": {
     "base_uri": "https://localhost:8080/",
     "height": 298
    },
    "id": "mJO1MJUEw8Lo",
    "outputId": "5486c91c-fe7a-4889-ba5b-42b168bc2835"
   },
   "outputs": [
    {
     "name": "stderr",
     "output_type": "stream",
     "text": [
      "100%|██████████| 10000/10000 [04:49<00:00, 34.57it/s]\n"
     ]
    },
    {
     "data": {
      "image/png": "[encoded data removed]",
      "text/plain": [
       "<Figure size 432x288 with 1 Axes>"
      ]
     },
     "metadata": {
      "needs_background": "light",
      "tags": []
     },
     "output_type": "display_data"
    }
   ],
   "source": [
    "wrapper = DQNWrapper(env, play_as_crosses=False, opponent=RandomStrategy())\n",
    "dqn = DQN(wrapper, gamma=0.8, eps_decay=10000, model_kind=\"dueling_dense\", device=device)\n",
    "avg_reward_x = dqn.fit(num_experiments=N_ITER)\n",
    "plot_reward(avg_reward_x, title=\"Выигрыш ноликов на обучении\")"
   ]
  },
  {
   "cell_type": "code",
   "execution_count": 9,
   "metadata": {
    "colab": {
     "base_uri": "https://localhost:8080/"
    },
    "id": "lBiwyduLw8Lp",
    "outputId": "ef32258c-933c-4cd3-a47f-3f513c5374cf"
   },
   "outputs": [
    {
     "name": "stdout",
     "output_type": "stream",
     "text": [
      "Доля выигрышей крестиков: 0.066\n",
      "Доля выигрышей ноликов: 0.843\n"
     ]
    }
   ],
   "source": [
    "pi_o1 = DQNStrategy(dqn, env.n_cols)\n",
    "_ = check_strategy(env, None, pi_o1, random_crosses=True, random_naughts=False, num_experiments=N_ITER)"
   ]
  },
  {
   "cell_type": "markdown",
   "metadata": {
    "id": "RgLXQ6Amw8Lp"
   },
   "source": [
    "**Игра обученных стратегий**"
   ]
  },
  {
   "cell_type": "code",
   "execution_count": 10,
   "metadata": {
    "colab": {
     "base_uri": "https://localhost:8080/"
    },
    "id": "yAAu3ToBw8Lp",
    "outputId": "edc85701-e67f-462e-9a74-0fbde422a358"
   },
   "outputs": [
    {
     "name": "stdout",
     "output_type": "stream",
     "text": [
      "Доля выигрышей крестиков: 1.000\n",
      "Доля выигрышей ноликов: 0.000\n"
     ]
    }
   ],
   "source": [
    "_ = check_strategy(env, pi_x1, pi_o1, random_crosses=False, random_naughts=False, num_experiments=N_ITER)"
   ]
  },
  {
   "cell_type": "markdown",
   "metadata": {
    "id": "MJLVSqFVw8Lp"
   },
   "source": [
    "## 2.3 Деревья"
   ]
  },
  {
   "cell_type": "markdown",
   "metadata": {
    "id": "bTJ8MZM7w8Lp"
   },
   "source": [
    "### Monte Carlo tree search"
   ]
  },
  {
   "cell_type": "code",
   "execution_count": 11,
   "metadata": {
    "id": "6OEf6Rw9w8Lp"
   },
   "outputs": [],
   "source": [
    "# N_ITER = 10000\n",
    "N_ITER = 100000"
   ]
  },
  {
   "cell_type": "markdown",
   "metadata": {
    "id": "IGH0yCfhw8Lp"
   },
   "source": [
    "**крестики обучаются против случайной стратегии**"
   ]
  },
  {
   "cell_type": "code",
   "execution_count": 12,
   "metadata": {
    "colab": {
     "base_uri": "https://localhost:8080/",
     "height": 298
    },
    "id": "feJi7rSnw8Lp",
    "outputId": "6485dfb6-7efa-47c1-bec1-19280303320b"
   },
   "outputs": [
    {
     "name": "stderr",
     "output_type": "stream",
     "text": [
      "100%|██████████| 100000/100000 [04:19<00:00, 385.93it/s]\n"
     ]
    },
    {
     "data": {
      "image/png": "[encoded data removed]",
      "text/plain": [
       "<Figure size 432x288 with 1 Axes>"
      ]
     },
     "metadata": {
      "needs_background": "light",
      "tags": []
     },
     "output_type": "display_data"
    }
   ],
   "source": [
    "mctree = MCTree()\n",
    "avg_reward_x = train_mcts(env, mctree, play_as_crosses=True, n_iters=N_ITER)\n",
    "plot_reward(avg_reward_x, title=\"Выигрыш крестиков на обучении\")"
   ]
  },
  {
   "cell_type": "code",
   "execution_count": 13,
   "metadata": {
    "colab": {
     "base_uri": "https://localhost:8080/"
    },
    "id": "2xKQlpKew8Lq",
    "outputId": "ae7dc5da-e214-42aa-db22-a441c36ec16a"
   },
   "outputs": [
    {
     "name": "stdout",
     "output_type": "stream",
     "text": [
      "Доля выигрышей крестиков: 0.358\n",
      "Доля выигрышей ноликов: 0.153\n"
     ]
    }
   ],
   "source": [
    "pi_x2 = MCTSStrategy(mctree)\n",
    "_ = check_strategy(env, pi_x2, None, random_crosses=False, random_naughts=True, num_experiments=N_ITER)"
   ]
  },
  {
   "cell_type": "markdown",
   "metadata": {
    "id": "TAbk14Jkw8Lq"
   },
   "source": [
    "**нолики обучаются против случайной стратегии**"
   ]
  },
  {
   "cell_type": "code",
   "execution_count": 14,
   "metadata": {
    "colab": {
     "base_uri": "https://localhost:8080/",
     "height": 298
    },
    "id": "PiJLpX78w8Lq",
    "outputId": "c74a9c1e-c1ab-4bca-991c-8727a62cc9a9"
   },
   "outputs": [
    {
     "name": "stderr",
     "output_type": "stream",
     "text": [
      "100%|██████████| 100000/100000 [04:16<00:00, 389.74it/s]\n"
     ]
    },
    {
     "data": {
      "image/png": "[encoded data removed]",
      "text/plain": [
       "<Figure size 432x288 with 1 Axes>"
      ]
     },
     "metadata": {
      "needs_background": "light",
      "tags": []
     },
     "output_type": "display_data"
    }
   ],
   "source": [
    "mctree = MCTree()\n",
    "avg_reward_o = train_mcts(env, mctree, play_as_crosses=False, n_iters=N_ITER)\n",
    "plot_reward(avg_reward_x, title=\"Выигрыш ноликов на обучении\")"
   ]
  },
  {
   "cell_type": "code",
   "execution_count": 15,
   "metadata": {
    "colab": {
     "base_uri": "https://localhost:8080/"
    },
    "id": "E7Fd3QpGw8Lq",
    "outputId": "d474e703-6720-4ddf-9fed-0628c92c1737"
   },
   "outputs": [
    {
     "name": "stdout",
     "output_type": "stream",
     "text": [
      "Доля выигрышей крестиков: 0.246\n",
      "Доля выигрышей ноликов: 0.195\n"
     ]
    }
   ],
   "source": [
    "pi_o2 = MCTSStrategy(mctree)\n",
    "_ = check_strategy(env, None, pi_o2, random_crosses=True, random_naughts=False, num_experiments=N_ITER)"
   ]
  },
  {
   "cell_type": "markdown",
   "metadata": {
    "id": "iC_4DXGB_Iqm"
   },
   "source": [
    "*Стратегии по MCST долго обучаются на 5х5. Это может быть связано с тем, что на этапе обновления оценки узлов по Монте Карло разыгрывается только один rollout со случайной стратегией. Обучение можно качественно улучшить, если оценивать по нескольким rollout'ам и вместо случайно стратегии брать булее сложную (например эвристическую)*"
   ]
  },
  {
   "cell_type": "markdown",
   "metadata": {
    "id": "iJx165-ow8Lq"
   },
   "source": [
    "**Игра обученных стратегий**"
   ]
  },
  {
   "cell_type": "code",
   "execution_count": 16,
   "metadata": {
    "colab": {
     "base_uri": "https://localhost:8080/"
    },
    "id": "4YNGGUKtw8Lq",
    "outputId": "139f8fb6-8702-449a-ed65-510588e24f16"
   },
   "outputs": [
    {
     "name": "stdout",
     "output_type": "stream",
     "text": [
      "Доля выигрышей крестиков: 0.142\n",
      "Доля выигрышей ноликов: 0.226\n"
     ]
    }
   ],
   "source": [
    "_ = check_strategy(env, pi_x2, pi_o2, random_crosses=False, random_naughts=False, num_experiments=N_ITER)"
   ]
  },
  {
   "cell_type": "markdown",
   "metadata": {
    "id": "iJx165-ow8Lq"
   },
   "source": [
    "**Игра DQN и MCST стратегий**"
   ]
  },
  {
   "cell_type": "code",
   "execution_count": 17,
   "metadata": {
    "colab": {
     "base_uri": "https://localhost:8080/"
    },
    "id": "n1ESsOFsw8Lr",
    "outputId": "c5be2fab-1135-4b7b-c57b-0b8c0da38a32"
   },
   "outputs": [
    {
     "name": "stdout",
     "output_type": "stream",
     "text": [
      "Доля выигрышей крестиков: 0.971\n",
      "Доля выигрышей ноликов: 0.004\n"
     ]
    }
   ],
   "source": [
    "_ = check_strategy(env, pi_x1, pi_o2, random_crosses=False, random_naughts=False, num_experiments=N_ITER)"
   ]
  },
  {
   "cell_type": "code",
   "execution_count": 19,
   "metadata": {
    "colab": {
     "base_uri": "https://localhost:8080/"
    },
    "id": "FypM9Fos9Caf",
    "outputId": "ff8bfb76-4bd3-4b89-f4ef-38386664cde7"
   },
   "outputs": [
    {
     "name": "stdout",
     "output_type": "stream",
     "text": [
      "Доля выигрышей крестиков: 0.037\n",
      "Доля выигрышей ноликов: 0.738\n"
     ]
    }
   ],
   "source": [
    "_ = check_strategy(env, pi_x2, pi_o1, random_crosses=False, random_naughts=False, num_experiments=1000)"
   ]
  },
  {
   "cell_type": "markdown",
   "metadata": {},
   "source": [
    "*Результаты очевидны, учитывая недообученность MCST стратегий*"
   ]
  },
  {
   "cell_type": "markdown",
   "metadata": {
    "id": "DC-cY0fvC9aR"
   },
   "source": [
    "Вывод:\n",
    "- Q-learning очень сложно использовать с большим числом состояний\n",
    "- DQN легко реализовать и настроить, но обучение требует больших ресурсов\n",
    "- MCST может быстро обучиться, если правильно настроить получение оценки состояния/действия (rollout)\n"
   ]
  },
  {
   "cell_type": "code",
   "execution_count": null,
   "metadata": {
    "id": "kWGyNkdbC_p6"
   },
   "outputs": [],
   "source": []
  }
 ],
 "metadata": {
  "accelerator": "GPU",
  "colab": {
   "collapsed_sections": [],
   "name": "hw2.ipynb",
   "provenance": [],
   "toc_visible": true
  },
  "kernelspec": {
   "display_name": "Python 3",
   "language": "python",
   "name": "python3"
  },
  "language_info": {
   "codemirror_mode": {
    "name": "ipython",
    "version": 3
   },
   "file_extension": ".py",
   "mimetype": "text/x-python",
   "name": "python",
   "nbconvert_exporter": "python",
   "pygments_lexer": "ipython3",
   "version": "3.7.4"
  }
 },
 "nbformat": 4,
 "nbformat_minor": 4
}
