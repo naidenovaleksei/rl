{
 "cells": [
  {
   "cell_type": "code",
   "execution_count": 1,
   "metadata": {},
   "outputs": [],
   "source": [
    "from collections import defaultdict\n",
    "import gym\n",
    "import numpy as np\n",
    "import matplotlib.pyplot as plt"
   ]
  },
  {
   "cell_type": "code",
   "execution_count": 5,
   "metadata": {},
   "outputs": [],
   "source": [
    "NUM_EXPERIMENTS_DEFAULT = 100000"
   ]
  },
  {
   "cell_type": "markdown",
   "metadata": {},
   "source": [
    "# Часть первая, стандартная"
   ]
  },
  {
   "cell_type": "code",
   "execution_count": 2,
   "metadata": {},
   "outputs": [],
   "source": [
    "env = gym.make('Blackjack-v0', natural=False)"
   ]
  },
  {
   "cell_type": "markdown",
   "metadata": {},
   "source": [
    "Рассмотрим очень простую стратегию: говорить stand, если у нас на руках комбинация в 19, 20 или 21 очко"
   ]
  },
  {
   "cell_type": "code",
   "execution_count": 3,
   "metadata": {},
   "outputs": [],
   "source": [
    "def play_simple_strategy(env):\n",
    "    observation = env.reset()\n",
    "    while True:\n",
    "        hand, dealer_hand, usable_ace = observation\n",
    "        if hand < 19:\n",
    "            observation, reward, done, info = env.step(1)\n",
    "        else:\n",
    "            observation, reward, done, info = env.step(0)\n",
    "        if done:\n",
    "            return reward"
   ]
  },
  {
   "cell_type": "markdown",
   "metadata": {},
   "source": [
    "Используйте методы Монте-Карло, чтобы оценить выигрыш от этой стратегии."
   ]
  },
  {
   "cell_type": "code",
   "execution_count": 4,
   "metadata": {},
   "outputs": [
    {
     "name": "stdout",
     "output_type": "stream",
     "text": [
      "Средняя награда: -0.207100\n",
      "Доля выигрышей: 0.358500\n",
      "Сумма выигрышей: -2071.0\n"
     ]
    }
   ],
   "source": [
    "total_reward = []\n",
    "for _ in range(NUM_EXPERIMENTS_DEFAULT):\n",
    "    env.reset()\n",
    "    reward = play_simple_strategy(env)\n",
    "    total_reward.append(reward)\n",
    "env.close()\n",
    "\n",
    "print(\"Средняя награда: %.6f\" % np.mean(total_reward))\n",
    "print(\"Доля выигрышей: %.6f\" % np.mean(np.array(total_reward) > 0))\n",
    "print(\"Сумма выигрышей: %.1f\" % np.sum(total_reward))"
   ]
  },
  {
   "cell_type": "markdown",
   "metadata": {},
   "source": [
    "### Функции для игры по заданным стратегиям"
   ]
  },
  {
   "cell_type": "code",
   "execution_count": 6,
   "metadata": {},
   "outputs": [],
   "source": [
    "def to_index(S):\n",
    "    return tuple(int(x) for x in S)"
   ]
  },
  {
   "cell_type": "code",
   "execution_count": 7,
   "metadata": {},
   "outputs": [],
   "source": [
    "def play_with_strategy(env, pi, smooth):\n",
    "    \"\"\"Играем один эпизод по стратегии pi в режиме exploration\"\"\"\n",
    "    Ss = []\n",
    "    As = []\n",
    "    Rs = []\n",
    "    observation = env.reset()\n",
    "    action = env.action_space.sample()\n",
    "    done = False\n",
    "    while not done:\n",
    "        Ss.append(observation)\n",
    "        observation, reward, done, info = env.step(action)\n",
    "        As.append(action)\n",
    "        Rs.append(reward)\n",
    "        if smooth:\n",
    "            ps = pi[to_index(observation)]\n",
    "            action = env.np_random.choice(np.arange(env.action_space.n), p = ps / ps.sum())\n",
    "        else:\n",
    "            action = pi[to_index(observation)]\n",
    "    return Ss, As, Rs"
   ]
  },
  {
   "cell_type": "code",
   "execution_count": 8,
   "metadata": {},
   "outputs": [],
   "source": [
    "def play_with_strategy_on_policy(env, pi):\n",
    "    \"\"\"Играем один эпизод по стратегии pi в режиме exploitation\"\"\"\n",
    "    observation = env.reset()\n",
    "    while True:\n",
    "        action = pi[to_index(observation)]\n",
    "        observation, reward, done, info = env.step(action)\n",
    "        if done:\n",
    "            return reward"
   ]
  },
  {
   "cell_type": "code",
   "execution_count": 9,
   "metadata": {},
   "outputs": [],
   "source": [
    "def play_with_strategy_on_policy_smooth(env, pi):\n",
    "    \"\"\"Играем один эпизод по мягкой стратегии pi в режиме exploitation\"\"\"\n",
    "    observation = env.reset()\n",
    "    while True:\n",
    "        ps = pi[to_index(observation)]\n",
    "        action = env.np_random.choice(np.arange(env.action_space.n), p = ps / ps.sum())\n",
    "        observation, reward, done, info = env.step(action)\n",
    "        if done:\n",
    "            return reward"
   ]
  },
  {
   "cell_type": "code",
   "execution_count": 10,
   "metadata": {},
   "outputs": [],
   "source": [
    "def check_strategy(env, pi, smooth, num_experiments=NUM_EXPERIMENTS_DEFAULT):\n",
    "    \"\"\"Играем много эпизодов по стратегии pi в режиме exploitation и возвращаем список наград за каждую игру\"\"\"\n",
    "    total_reward = []\n",
    "\n",
    "    for _ in range(num_experiments):\n",
    "        env.reset()\n",
    "        if smooth:\n",
    "            reward = play_with_strategy_on_policy_smooth(env, pi)\n",
    "        else:\n",
    "            reward = play_with_strategy_on_policy(env, pi)\n",
    "        total_reward.append(reward)\n",
    "    env.close()\n",
    "\n",
    "    print(\"Средняя награда: %.6f\" % np.mean(total_reward))\n",
    "    print(\"Доля выигрышей: %.6f\" % np.mean(np.array(total_reward) > 0))\n",
    "    print(\"Сумма выигрышей: %.1f\" % np.sum(total_reward))\n",
    "    avg_reward = np.cumsum(total_reward) / np.arange(1, len(total_reward) + 1)\n",
    "    return avg_reward"
   ]
  },
  {
   "cell_type": "markdown",
   "metadata": {},
   "source": [
    "*Реализуйте метод обучения с подкреплением без модели*\n",
    "\n",
    "Реализовано:\n",
    "- Алгоритм Monte Carlo control with exploring starts\n",
    "- Алгоритм on-policy Monte Carlo control с мягкими стратегиями\n",
    "- Алгоритм off-policy Monte Carlo control\n",
    "- Алгоритм Q-learning (off-policy TD control)"
   ]
  },
  {
   "cell_type": "markdown",
   "metadata": {},
   "source": [
    "### Алгоритм Monte Carlo control with exploring starts"
   ]
  },
  {
   "cell_type": "code",
   "execution_count": 11,
   "metadata": {},
   "outputs": [],
   "source": [
    "def monte_carlo_estimation(env, pi, gamma = 0.5, num_experiments = NUM_EXPERIMENTS_DEFAULT):\n",
    "    RetS = defaultdict(list)\n",
    "    Q = env.np_random.rand(*(x.n for x in env.observation_space), env.action_space.n) - 1\n",
    "    \n",
    "    for _ in range(num_experiments):\n",
    "        Ss, As, Rs = play_with_strategy(env, pi, smooth=False)\n",
    "        G = 0\n",
    "        for t in list(range(0, len(Ss)))[::-1]:\n",
    "            St, At, Rt = Ss[t], As[t], Rs[t]\n",
    "            G = gamma * G + Rt\n",
    "            RetS[(St, At)].append(G)\n",
    "            Q[(*to_index(St), At)] = np.mean(RetS[(St, At)])\n",
    "            pi[to_index(St)] = Q[to_index(St)].argmax()\n",
    "    return RetS, Q"
   ]
  },
  {
   "cell_type": "markdown",
   "metadata": {},
   "source": [
    "Инициализация и прогон случайной стратегии"
   ]
  },
  {
   "cell_type": "code",
   "execution_count": 12,
   "metadata": {},
   "outputs": [
    {
     "name": "stdout",
     "output_type": "stream",
     "text": [
      "Средняя награда: -0.388660\n",
      "Доля выигрышей: 0.282640\n",
      "Сумма выигрышей: -38866.0\n"
     ]
    }
   ],
   "source": [
    "pi_random = np.random.randint(2, size=[x.n for x in env.observation_space])\n",
    "avg_reward_random = check_strategy(env, pi_random, smooth=False)"
   ]
  },
  {
   "cell_type": "markdown",
   "metadata": {},
   "source": [
    "Инициализация и прогон стратегии из п.1 (\"stand\" on >=19)"
   ]
  },
  {
   "cell_type": "code",
   "execution_count": 13,
   "metadata": {},
   "outputs": [
    {
     "name": "stdout",
     "output_type": "stream",
     "text": [
      "Средняя награда: -0.199780\n",
      "Доля выигрышей: 0.362080\n",
      "Сумма выигрышей: -19978.0\n"
     ]
    }
   ],
   "source": [
    "pi_stable = np.ones([x.n for x in env.observation_space], dtype=int)\n",
    "pi_stable[19:,:,:] = 0\n",
    "avg_reward_stable = check_strategy(env, pi_stable, smooth=False)"
   ]
  },
  {
   "cell_type": "markdown",
   "metadata": {},
   "source": [
    "Построение и прогон стратегии monte_carlo_estimation (основано на стратегии из п.1)"
   ]
  },
  {
   "cell_type": "code",
   "execution_count": 14,
   "metadata": {},
   "outputs": [],
   "source": [
    "pi = pi_stable.copy()\n",
    "RetS, Q = monte_carlo_estimation(env, pi, gamma = 0.9)"
   ]
  },
  {
   "cell_type": "code",
   "execution_count": 15,
   "metadata": {},
   "outputs": [
    {
     "name": "stdout",
     "output_type": "stream",
     "text": [
      "Средняя награда: -0.051170\n",
      "Доля выигрышей: 0.430650\n",
      "Сумма выигрышей: -5117.0\n"
     ]
    }
   ],
   "source": [
    "avg_reward = check_strategy(env, pi, smooth=False)"
   ]
  },
  {
   "cell_type": "code",
   "execution_count": 16,
   "metadata": {},
   "outputs": [
    {
     "name": "stderr",
     "output_type": "stream",
     "text": [
      "/Users/aleksei/opt/anaconda3/lib/python3.7/site-packages/IPython/core/events.py:88: UserWarning: Creating legend with loc=\"best\" can be slow with large amounts of data.\n",
      "  func(*args, **kwargs)\n",
      "/Users/aleksei/opt/anaconda3/lib/python3.7/site-packages/IPython/core/pylabtools.py:128: UserWarning: Creating legend with loc=\"best\" can be slow with large amounts of data.\n",
      "  fig.canvas.print_figure(bytes_io, **kw)\n"
     ]
    },
    {
     "data": {
      "image/png": "[encoded data removed]",
      "text/plain": [
       "<Figure size 432x288 with 1 Axes>"
      ]
     },
     "metadata": {
      "needs_background": "light"
     },
     "output_type": "display_data"
    }
   ],
   "source": [
    "plt.plot(avg_reward, label=\"monte_carlo_estimation\")\n",
    "plt.plot(avg_reward_stable, label=\"stable\")\n",
    "plt.plot(avg_reward_random, label=\"random\")\n",
    "plt.ylim([-0.5, 0])\n",
    "plt.grid()\n",
    "_ = plt.legend()"
   ]
  },
  {
   "cell_type": "markdown",
   "metadata": {},
   "source": [
    "### Алгоритм on-policy Monte Carlo control с мягкими стратегиями"
   ]
  },
  {
   "cell_type": "code",
   "execution_count": 17,
   "metadata": {},
   "outputs": [],
   "source": [
    "def monte_carlo_control_smooth(env, pi,eps=0.5,  num_experiments = NUM_EXPERIMENTS_DEFAULT):\n",
    "    RetS = defaultdict(list)\n",
    "    gamma = 0.5\n",
    "    Q = np.random.rand(*(x.n for x in env.observation_space), 2) * 2 - 1\n",
    "    \n",
    "    for _ in range(num_experiments):\n",
    "        Ss, As, Rs = play_with_strategy(env, pi, smooth=True)\n",
    "        G = 0\n",
    "        for t in list(range(0, len(Ss)))[::-1]:\n",
    "            St, At, Rt = Ss[t], As[t], Rs[t]\n",
    "            G = gamma * G + Rt\n",
    "            RetS[(St, At)].append(G)\n",
    "            Q[(*to_index(St), At)] = np.mean(RetS[(St, At)])\n",
    "            a_star = Q[to_index(St)].argmax()\n",
    "            ps = np.ones(env.action_space.n) * eps / env.action_space.n\n",
    "            ps[a_star] = 1 - eps + eps / env.action_space.n\n",
    "            pi[to_index(St)] = ps\n",
    "    return RetS, Q"
   ]
  },
  {
   "cell_type": "markdown",
   "metadata": {},
   "source": [
    "Инициализация и прогон \"равномерной\" мягкой стратегии"
   ]
  },
  {
   "cell_type": "code",
   "execution_count": 18,
   "metadata": {},
   "outputs": [],
   "source": [
    "pi = np.ones((*(x.n for x in env.observation_space), env.action_space.n))\n",
    "pi = (pi.T / pi.T.sum(axis=0)).T"
   ]
  },
  {
   "cell_type": "code",
   "execution_count": 19,
   "metadata": {},
   "outputs": [
    {
     "name": "stdout",
     "output_type": "stream",
     "text": [
      "Средняя награда: -0.399660\n",
      "Доля выигрышей: 0.278530\n",
      "Сумма выигрышей: -39966.0\n"
     ]
    }
   ],
   "source": [
    "avg_reward_random_smooth = check_strategy(env, pi, smooth=True)"
   ]
  },
  {
   "cell_type": "markdown",
   "metadata": {},
   "source": [
    "Построение стратегии monte_carlo_control_smooth (основано на  \"равномерной\" мягкой стратегии)"
   ]
  },
  {
   "cell_type": "code",
   "execution_count": 20,
   "metadata": {},
   "outputs": [],
   "source": [
    "RetS, Q = monte_carlo_control_smooth(env, pi, eps=0.1)"
   ]
  },
  {
   "cell_type": "markdown",
   "metadata": {},
   "source": [
    "Прогон стратегии monte_carlo_control_smooth в мягком режиме (стохастической)"
   ]
  },
  {
   "cell_type": "code",
   "execution_count": 21,
   "metadata": {},
   "outputs": [
    {
     "name": "stdout",
     "output_type": "stream",
     "text": [
      "Средняя награда: -0.086740\n",
      "Доля выигрышей: 0.413570\n",
      "Сумма выигрышей: -8674.0\n"
     ]
    }
   ],
   "source": [
    "avg_reward_smooth = check_strategy(env, pi, smooth=True)"
   ]
  },
  {
   "cell_type": "markdown",
   "metadata": {},
   "source": [
    "Прогон стратегии monte_carlo_control_smooth в жестком режиме (детерминированной)"
   ]
  },
  {
   "cell_type": "code",
   "execution_count": 22,
   "metadata": {},
   "outputs": [
    {
     "name": "stdout",
     "output_type": "stream",
     "text": [
      "Средняя награда: -0.050210\n",
      "Доля выигрышей: 0.430980\n",
      "Сумма выигрышей: -5021.0\n"
     ]
    }
   ],
   "source": [
    "avg_reward_hard = check_strategy(env, pi.argmax(axis=-1), smooth=False)"
   ]
  },
  {
   "cell_type": "code",
   "execution_count": 23,
   "metadata": {},
   "outputs": [
    {
     "data": {
      "image/png": "[encoded data removed]",
      "text/plain": [
       "<Figure size 432x288 with 1 Axes>"
      ]
     },
     "metadata": {
      "needs_background": "light"
     },
     "output_type": "display_data"
    }
   ],
   "source": [
    "plt.plot(avg_reward_smooth, label=\"monte_carlo_control_smooth\")\n",
    "plt.plot(avg_reward_hard, label=\"monte_carlo_control_hard\")\n",
    "plt.plot(avg_reward_random_smooth, label=\"random\")\n",
    "plt.ylim([-0.5, 0])\n",
    "plt.grid()\n",
    "_ = plt.legend()"
   ]
  },
  {
   "cell_type": "markdown",
   "metadata": {},
   "source": [
    "### Алгоритм off-policy Monte Carlo control"
   ]
  },
  {
   "cell_type": "code",
   "execution_count": 24,
   "metadata": {},
   "outputs": [],
   "source": [
    "def monte_carlo_control_off_policy(env, b, pi, eps=0.5, num_experiments = NUM_EXPERIMENTS_DEFAULT):\n",
    "    RetS = defaultdict(list)\n",
    "    cS = defaultdict(int)\n",
    "    gamma = 0.5\n",
    "    Q = np.random.rand(*(x.n for x in env.observation_space), 2) * 2 - 1\n",
    "    \n",
    "    for _ in range(num_experiments):\n",
    "        Ss, As, Rs = play_with_strategy(env, b, smooth=True)\n",
    "        G = 0\n",
    "        W = 1\n",
    "        for t in list(range(0, len(Ss)))[::-1]:\n",
    "            St, At, Rt = Ss[t], As[t], Rs[t]\n",
    "            G = gamma * G + Rt\n",
    "            cS[(St, At)] += W\n",
    "            Q[(*to_index(St), At)] += W / cS[(St, At)] * (G - Q[(*to_index(St), At)])\n",
    "            pi[to_index(St)] = Q[to_index(St)].argmax()\n",
    "            if pi[to_index(St)] != At:\n",
    "                break\n",
    "            W = W / b[(*to_index(St), At)]\n",
    "    return RetS, Q"
   ]
  },
  {
   "cell_type": "markdown",
   "metadata": {},
   "source": [
    "Выбор случайной мягкой стратегии для исследования и инициализация случайной стратегии для построения monte_carlo_control_off_policy"
   ]
  },
  {
   "cell_type": "code",
   "execution_count": 25,
   "metadata": {},
   "outputs": [],
   "source": [
    "pi = pi_random.copy()\n",
    "b = np.random.rand(*(x.n for x in env.observation_space), env.action_space.n)\n",
    "b = (b.T / b.T.sum(axis=0)).T\n",
    "RetS, Q = monte_carlo_control_off_policy(env, b, pi, eps=0.1)"
   ]
  },
  {
   "cell_type": "markdown",
   "metadata": {},
   "source": [
    "Прогон жесткой стратегии monte_carlo_control_off_policy"
   ]
  },
  {
   "cell_type": "code",
   "execution_count": 26,
   "metadata": {},
   "outputs": [
    {
     "name": "stdout",
     "output_type": "stream",
     "text": [
      "Средняя награда: -0.046190\n",
      "Доля выигрышей: 0.430650\n",
      "Сумма выигрышей: -4619.0\n"
     ]
    }
   ],
   "source": [
    "avg_reward = check_strategy(env, pi, smooth=False)"
   ]
  },
  {
   "cell_type": "code",
   "execution_count": 27,
   "metadata": {},
   "outputs": [
    {
     "data": {
      "image/png": "[encoded data removed]",
      "text/plain": [
       "<Figure size 432x288 with 1 Axes>"
      ]
     },
     "metadata": {
      "needs_background": "light"
     },
     "output_type": "display_data"
    }
   ],
   "source": [
    "plt.plot(avg_reward, label=\"monte_carlo_control_off_policy\")\n",
    "plt.plot(avg_reward_random, label=\"random\")\n",
    "plt.ylim([-0.5, 0])\n",
    "plt.grid()\n",
    "_ = plt.legend()"
   ]
  },
  {
   "cell_type": "markdown",
   "metadata": {},
   "source": [
    "### Алгоритм Q-learning (off-policy TD control):"
   ]
  },
  {
   "cell_type": "code",
   "execution_count": 28,
   "metadata": {},
   "outputs": [],
   "source": [
    "def q_learning(env, eps=0.5, alpha=0.5, gamma=0.5, num_experiments = NUM_EXPERIMENTS_DEFAULT):\n",
    "    Q = np.random.rand(*(x.n for x in env.observation_space), env.action_space.n) * 2 - 1\n",
    "    \n",
    "    for _ in range(num_experiments):\n",
    "        observation = env.reset()\n",
    "        done = False\n",
    "        while not done:\n",
    "            a_star = Q[to_index(observation)].argmax()\n",
    "            ps = np.ones(env.action_space.n) * eps / env.action_space.n\n",
    "            ps[a_star] = 1 - eps + eps / env.action_space.n\n",
    "            At = np.random.choice(np.arange(env.action_space.n), p = ps / ps.sum())\n",
    "\n",
    "            St = observation\n",
    "            observation, reward, done, info = env.step(At)\n",
    "            Q[(*to_index(St), At)] += alpha * (reward + gamma * Q[to_index(observation)].max() - Q[(*to_index(St), At)])\n",
    "    return Q"
   ]
  },
  {
   "cell_type": "markdown",
   "metadata": {},
   "source": [
    "Построение стратегии off-policy TD control (q_learning) (веса `eps` и `alpha` подобраны эмпирически)"
   ]
  },
  {
   "cell_type": "code",
   "execution_count": 29,
   "metadata": {},
   "outputs": [],
   "source": [
    "Q_td = q_learning(env, eps=0.5, alpha=0.2, gamma=0.1)"
   ]
  },
  {
   "cell_type": "code",
   "execution_count": 30,
   "metadata": {},
   "outputs": [],
   "source": [
    "pi = Q_td.argmax(axis=-1)"
   ]
  },
  {
   "cell_type": "markdown",
   "metadata": {},
   "source": [
    "Прогон стратегии q_learning"
   ]
  },
  {
   "cell_type": "code",
   "execution_count": 31,
   "metadata": {},
   "outputs": [
    {
     "name": "stdout",
     "output_type": "stream",
     "text": [
      "Средняя награда: -0.070380\n",
      "Доля выигрышей: 0.417540\n",
      "Сумма выигрышей: -7038.0\n"
     ]
    }
   ],
   "source": [
    "avg_reward = check_strategy(env, pi, smooth=False)"
   ]
  },
  {
   "cell_type": "code",
   "execution_count": 33,
   "metadata": {},
   "outputs": [
    {
     "data": {
      "image/png": "[encoded data removed]",
      "text/plain": [
       "<Figure size 432x288 with 1 Axes>"
      ]
     },
     "metadata": {
      "needs_background": "light"
     },
     "output_type": "display_data"
    }
   ],
   "source": [
    "plt.plot(avg_reward, label=\"q_learning\")\n",
    "plt.plot(avg_reward_random, label=\"random\")\n",
    "plt.ylim([-0.5, 0])\n",
    "plt.grid()\n",
    "_ = plt.legend()"
   ]
  },
  {
   "cell_type": "markdown",
   "metadata": {},
   "source": [
    "Вывод: хорошо себя показывают алгоритмы Монте-Карло, например off-policy Monte Carlo control имеет лучший результат -4600 на 100К игр). TD алгоритм показывает стаблиьно хуже результат"
   ]
  },
  {
   "cell_type": "markdown",
   "metadata": {},
   "source": [
    "# Часть вторая, удвоенная"
   ]
  },
  {
   "cell_type": "markdown",
   "metadata": {},
   "source": [
    "`blackjack.py` - новый вариант блекджека на основе окружения Blackjack-v0 из OpenAI Gym, в котором разрешено удвоение ставки"
   ]
  },
  {
   "cell_type": "code",
   "execution_count": 3,
   "metadata": {},
   "outputs": [],
   "source": [
    "import blackjack as blackjack_double"
   ]
  },
  {
   "cell_type": "code",
   "execution_count": 36,
   "metadata": {},
   "outputs": [],
   "source": [
    "env = blackjack_double.BlackjackEnv(natural=True)"
   ]
  },
  {
   "cell_type": "markdown",
   "metadata": {},
   "source": [
    "### Алгоритм Monte Carlo control with exploring starts"
   ]
  },
  {
   "cell_type": "markdown",
   "metadata": {},
   "source": [
    "Инициализация и прогон случайной стратегии"
   ]
  },
  {
   "cell_type": "code",
   "execution_count": 37,
   "metadata": {},
   "outputs": [
    {
     "name": "stdout",
     "output_type": "stream",
     "text": [
      "Средняя награда: -0.545175\n",
      "Доля выигрышей: 0.287040\n",
      "Сумма выигрышей: -54517.5\n"
     ]
    }
   ],
   "source": [
    "pi_random = np.random.randint(env.action_space.n, size=[x.n for x in env.observation_space])\n",
    "avg_reward_random = check_strategy(env, pi_random, smooth=False)"
   ]
  },
  {
   "cell_type": "markdown",
   "metadata": {},
   "source": [
    "Построение и прогон стратегии monte_carlo_estimation (основано на случайной стратегии)"
   ]
  },
  {
   "cell_type": "code",
   "execution_count": 38,
   "metadata": {},
   "outputs": [],
   "source": [
    "pi = pi_random.copy()\n",
    "_ = monte_carlo_estimation(env, pi)"
   ]
  },
  {
   "cell_type": "code",
   "execution_count": 39,
   "metadata": {},
   "outputs": [
    {
     "name": "stdout",
     "output_type": "stream",
     "text": [
      "Средняя награда: -0.015200\n",
      "Доля выигрышей: 0.428090\n",
      "Сумма выигрышей: -1520.0\n"
     ]
    }
   ],
   "source": [
    "avg_reward = check_strategy(env, pi, smooth=False)"
   ]
  },
  {
   "cell_type": "code",
   "execution_count": 40,
   "metadata": {},
   "outputs": [
    {
     "data": {
      "image/png": "[encoded data removed]",
      "text/plain": [
       "<Figure size 432x288 with 1 Axes>"
      ]
     },
     "metadata": {
      "needs_background": "light"
     },
     "output_type": "display_data"
    }
   ],
   "source": [
    "plt.plot(avg_reward, label=\"monte_carlo_estimation\")\n",
    "plt.plot(avg_reward_random, label=\"random\")\n",
    "plt.ylim([-0.75, 0])\n",
    "plt.grid()\n",
    "_ = plt.legend()"
   ]
  },
  {
   "cell_type": "markdown",
   "metadata": {},
   "source": [
    "### Алгоритм Q-learning (off-policy TD control):"
   ]
  },
  {
   "cell_type": "markdown",
   "metadata": {},
   "source": [
    "Построение стратегии off-policy TD control (q_learning) (веса `eps` и `alpha` подобраны на прошлом этапе)"
   ]
  },
  {
   "cell_type": "code",
   "execution_count": 41,
   "metadata": {},
   "outputs": [],
   "source": [
    "Q_td = q_learning(env, eps=0.5, alpha=0.2, gamma=0.1)"
   ]
  },
  {
   "cell_type": "code",
   "execution_count": 42,
   "metadata": {},
   "outputs": [],
   "source": [
    "pi = Q_td.argmax(axis=-1)"
   ]
  },
  {
   "cell_type": "markdown",
   "metadata": {},
   "source": [
    "Прогон стратегии q_learning"
   ]
  },
  {
   "cell_type": "code",
   "execution_count": 43,
   "metadata": {},
   "outputs": [
    {
     "name": "stdout",
     "output_type": "stream",
     "text": [
      "Средняя награда: -0.056380\n",
      "Доля выигрышей: 0.416680\n",
      "Сумма выигрышей: -5638.0\n"
     ]
    }
   ],
   "source": [
    "avg_reward = check_strategy(env, pi, smooth=False)"
   ]
  },
  {
   "cell_type": "code",
   "execution_count": 44,
   "metadata": {},
   "outputs": [
    {
     "data": {
      "image/png": "[encoded data removed]",
      "text/plain": [
       "<Figure size 432x288 with 1 Axes>"
      ]
     },
     "metadata": {
      "needs_background": "light"
     },
     "output_type": "display_data"
    }
   ],
   "source": [
    "plt.plot(avg_reward, label=\"q_learning\")\n",
    "plt.plot(avg_reward_random, label=\"random\")\n",
    "plt.ylim([-0.75, 0])\n",
    "plt.grid()\n",
    "_ = plt.legend()"
   ]
  },
  {
   "cell_type": "markdown",
   "metadata": {},
   "source": [
    "Вывод: с удвоением стратегии все еще проигрывают но заметно меньше (лучший проигрыш -1500 на 100К игр)"
   ]
  },
  {
   "cell_type": "markdown",
   "metadata": {},
   "source": [
    "# Часть третья, с подсчетом карт"
   ]
  },
  {
   "cell_type": "markdown",
   "metadata": {},
   "source": [
    "`blackjack_count.py` - новый вариант блекджека на основе окружения Blackjack-v0 из предыдущей части (с удвоением), в котором игрок имеет возможность “считать карты” в колоде\n",
    "\n",
    "**подсчет карт основан на упрощенной системе подсчёта «Плюс-минус»**\n",
    "\n",
    "это значит что мы:\n",
    "- ставим +1 балл за 2, 3, 4, 5, 6 \n",
    "- ставим -1 балл за 10, В, Д, К, Т\n",
    "- при этом берем только знак от полученной суммы баллов\n",
    "- в итоге получаем только 3 состояния вместо 21 (от -10 до 10)\n",
    "- это уменьшает пространство состояний для более быстрой сходимости"
   ]
  },
  {
   "cell_type": "code",
   "execution_count": 45,
   "metadata": {},
   "outputs": [],
   "source": [
    "import blackjack_count"
   ]
  },
  {
   "cell_type": "code",
   "execution_count": 46,
   "metadata": {},
   "outputs": [
    {
     "data": {
      "text/plain": [
       "<module 'blackjack_count' from '/Users/aleksei/made/rl/hw1/blackjack_count.py'>"
      ]
     },
     "execution_count": 46,
     "metadata": {},
     "output_type": "execute_result"
    }
   ],
   "source": [
    "from importlib import reload\n",
    "reload(blackjack_count)"
   ]
  },
  {
   "cell_type": "code",
   "execution_count": 47,
   "metadata": {},
   "outputs": [],
   "source": [
    "env = blackjack_count.BlackjackEnv(natural=True)"
   ]
  },
  {
   "cell_type": "markdown",
   "metadata": {},
   "source": [
    "### Алгоритм Monte Carlo control with exploring starts"
   ]
  },
  {
   "cell_type": "markdown",
   "metadata": {},
   "source": [
    "Инициализация и прогон случайной стратегии"
   ]
  },
  {
   "cell_type": "code",
   "execution_count": 48,
   "metadata": {},
   "outputs": [
    {
     "name": "stdout",
     "output_type": "stream",
     "text": [
      "Средняя награда: -0.528320\n",
      "Доля выигрышей: 0.282740\n",
      "Сумма выигрышей: -52832.0\n"
     ]
    }
   ],
   "source": [
    "pi_random = np.random.randint(env.action_space.n, size=[x.n for x in env.observation_space])\n",
    "avg_reward_random = check_strategy(env, pi_random, smooth=False)"
   ]
  },
  {
   "cell_type": "markdown",
   "metadata": {},
   "source": [
    "Построение и прогон стратегии monte_carlo_estimation (основано на случайной стратегии)"
   ]
  },
  {
   "cell_type": "code",
   "execution_count": 49,
   "metadata": {},
   "outputs": [],
   "source": [
    "pi = pi_random.copy()\n",
    "_ = monte_carlo_estimation(env, pi)"
   ]
  },
  {
   "cell_type": "code",
   "execution_count": 50,
   "metadata": {},
   "outputs": [
    {
     "name": "stdout",
     "output_type": "stream",
     "text": [
      "Средняя награда: -0.025620\n",
      "Доля выигрышей: 0.426280\n",
      "Сумма выигрышей: -2562.0\n"
     ]
    }
   ],
   "source": [
    "avg_reward = check_strategy(env, pi, smooth=False)"
   ]
  },
  {
   "cell_type": "code",
   "execution_count": 51,
   "metadata": {},
   "outputs": [
    {
     "data": {
      "image/png": "[encoded data removed]",
      "text/plain": [
       "<Figure size 432x288 with 1 Axes>"
      ]
     },
     "metadata": {
      "needs_background": "light"
     },
     "output_type": "display_data"
    }
   ],
   "source": [
    "plt.plot(avg_reward, label=\"monte_carlo_estimation\")\n",
    "plt.plot(avg_reward_random, label=\"random\")\n",
    "plt.ylim([-0.75, 0])\n",
    "plt.grid()\n",
    "_ = plt.legend()"
   ]
  },
  {
   "cell_type": "markdown",
   "metadata": {},
   "source": [
    "### Алгоритм Q-learning (off-policy TD control):"
   ]
  },
  {
   "cell_type": "markdown",
   "metadata": {},
   "source": [
    "Построение стратегии off-policy TD control (q_learning) (веса `eps` и `alpha` подобраны на прошлом этапе)"
   ]
  },
  {
   "cell_type": "code",
   "execution_count": 52,
   "metadata": {},
   "outputs": [],
   "source": [
    "Q_td = q_learning(env, eps=0.5, alpha=0.2, gamma=0.1)"
   ]
  },
  {
   "cell_type": "code",
   "execution_count": 53,
   "metadata": {},
   "outputs": [],
   "source": [
    "pi = Q_td.argmax(axis=-1)"
   ]
  },
  {
   "cell_type": "markdown",
   "metadata": {},
   "source": [
    "Прогон стратегии q_learning"
   ]
  },
  {
   "cell_type": "code",
   "execution_count": 54,
   "metadata": {},
   "outputs": [
    {
     "name": "stdout",
     "output_type": "stream",
     "text": [
      "Средняя награда: -0.070890\n",
      "Доля выигрышей: 0.416140\n",
      "Сумма выигрышей: -7089.0\n"
     ]
    }
   ],
   "source": [
    "avg_reward = check_strategy(env, pi, smooth=False)"
   ]
  },
  {
   "cell_type": "code",
   "execution_count": 55,
   "metadata": {},
   "outputs": [
    {
     "data": {
      "image/png": "[encoded data removed]",
      "text/plain": [
       "<Figure size 432x288 with 1 Axes>"
      ]
     },
     "metadata": {
      "needs_background": "light"
     },
     "output_type": "display_data"
    }
   ],
   "source": [
    "plt.plot(avg_reward, label=\"q_learning\")\n",
    "plt.plot(avg_reward_random, label=\"random\")\n",
    "plt.ylim([-0.75, 0])\n",
    "plt.grid()\n",
    "_ = plt.legend()"
   ]
  },
  {
   "cell_type": "markdown",
   "metadata": {},
   "source": [
    "Вывод: такой округленный подсчет себя не оправдал, проигрыш больше чем без подсчета"
   ]
  }
 ],
 "metadata": {
  "kernelspec": {
   "display_name": "Python 3",
   "language": "python",
   "name": "python3"
  },
  "language_info": {
   "codemirror_mode": {
    "name": "ipython",
    "version": 3
   },
   "file_extension": ".py",
   "mimetype": "text/x-python",
   "name": "python",
   "nbconvert_exporter": "python",
   "pygments_lexer": "ipython3",
   "version": "3.7.4"
  }
 },
 "nbformat": 4,
 "nbformat_minor": 4
}
